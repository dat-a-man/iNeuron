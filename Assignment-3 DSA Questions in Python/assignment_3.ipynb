{
 "cells": [
  {
   "attachments": {},
   "cell_type": "markdown",
   "metadata": {},
   "source": [
    "## Arrays"
   ]
  },
  {
   "attachments": {},
   "cell_type": "markdown",
   "metadata": {},
   "source": [
    "### 1. Find elements with given sum"
   ]
  },
  {
   "cell_type": "code",
   "execution_count": 1,
   "metadata": {},
   "outputs": [
    {
     "name": "stdout",
     "output_type": "stream",
     "text": [
      "Yes\n"
     ]
    }
   ],
   "source": [
    "def chkPair(A, size, x):\n",
    "    for i in range(0, size - 1):\n",
    "        for j in range(i + 1, size):\n",
    "            if (A[i] + A[j] == x):\n",
    "                return 1\n",
    "    return 0\n",
    " \n",
    " \n",
    "if __name__ == \"__main__\":\n",
    "    A = [0, -1, 2, -3, 1]\n",
    "    x = -2\n",
    "    size = len(A)\n",
    " \n",
    "    if (chkPair(A, size, x)):\n",
    "        print(\"Yes\")\n",
    " \n",
    "    else:\n",
    "        print(\"No\")"
   ]
  }
 ],
 "metadata": {
  "kernelspec": {
   "display_name": "Python 3",
   "language": "python",
   "name": "python3"
  },
  "language_info": {
   "codemirror_mode": {
    "name": "ipython",
    "version": 3
   },
   "file_extension": ".py",
   "mimetype": "text/x-python",
   "name": "python",
   "nbconvert_exporter": "python",
   "pygments_lexer": "ipython3",
   "version": "3.10.4"
  },
  "orig_nbformat": 4,
  "vscode": {
   "interpreter": {
    "hash": "3ad933181bd8a04b432d3370b9dc3b0662ad032c4dfaa4e4f1596c548f763858"
   }
  }
 },
 "nbformat": 4,
 "nbformat_minor": 2
}
